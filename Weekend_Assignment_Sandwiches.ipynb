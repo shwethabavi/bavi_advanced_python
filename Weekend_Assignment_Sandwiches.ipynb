{
 "cells": [
  {
   "cell_type": "code",
   "execution_count": 1,
   "metadata": {},
   "outputs": [
    {
     "name": "stdout",
     "output_type": "stream",
     "text": [
      "Weekend assignment\n"
     ]
    }
   ],
   "source": [
    "print(\"Weekend assignment\")"
   ]
  },
  {
   "cell_type": "code",
   "execution_count": null,
   "metadata": {},
   "outputs": [],
   "source": [
    "Scenario 1 :\n",
    "    Sandwiches : \n",
    "        1. Write a function that accepts a list of items a person wants on a sandwich. \n",
    "        2. The function should have one parameter that collects as many items as the function call provides.\n",
    "        3. It should print a summary of the sandwich that’s being ordered. \n",
    "        4. Call the function three times, using a different number of arguments each time.\n",
    "\n"
   ]
  },
  {
   "cell_type": "code",
   "execution_count": 56,
   "metadata": {},
   "outputs": [],
   "source": [
    "def sandwiches(items):\n",
    "    \n",
    "    if len(items) == 0:\n",
    "        print(\"\\nYummy and delicious sandwich with Butter and Mayonnaise is on the way!!!\")\n",
    "    else:\n",
    "        msg = \"\\nYour favourite Yummy and Delicious sandwich is getting baked with customized toppings.:\"\n",
    "        print(msg)\n",
    "        for item in items:\n",
    "            print(item)\n",
    "    "
   ]
  },
  {
   "cell_type": "code",
   "execution_count": 57,
   "metadata": {},
   "outputs": [
    {
     "name": "stdout",
     "output_type": "stream",
     "text": [
      "Number of different toppings required :2\n",
      "Kindly enter your fav sandwich toppings: \n",
      "corn\n",
      "cheese\n",
      "\n",
      "Your favourite Yummy and Delicious sandwich is getting baked with customized toppings.:\n",
      "corn\n",
      "cheese\n",
      "\n",
      "Yummy and Delicious Sandwich is ready to eat. Enjoy your meal!!!\n"
     ]
    }
   ],
   "source": [
    "\n",
    "#toppings = ['cheese','paneer','corn']\n",
    "\n",
    "try :\n",
    "    \n",
    "    toppings = []\n",
    "    n = int(input(\"Number of different toppings required :\"))\n",
    "    print(\"Kindly enter your fav sandwich toppings: \")\n",
    "\n",
    "    for i in range(0,n):\n",
    "        item = input()\n",
    "        if item == \"\":\n",
    "            continue\n",
    "        else:\n",
    "            toppings.append(item)\n",
    "\n",
    "    mysandwich = sandwiches(toppings)\n",
    "\n",
    "except ValueError:\n",
    "    print(\"Kindly enter the Valid number of toppings\")\n",
    "\n",
    "finally:\n",
    "    print(\"\\nYummy and Delicious Sandwich is ready to eat. Enjoy your meal!!!\")"
   ]
  },
  {
   "cell_type": "code",
   "execution_count": 58,
   "metadata": {},
   "outputs": [
    {
     "name": "stdout",
     "output_type": "stream",
     "text": [
      "Number of different toppings required :4\n",
      "Kindly enter your fav sandwich toppings: \n",
      "paneer\n",
      "\n",
      "cheese\n",
      "\n",
      "\n",
      "Your favourite Yummy and Delicious sandwich is getting baked with customized toppings.:\n",
      "paneer\n",
      "cheese\n",
      "\n",
      "Yummy and Delicious Sandwich is ready to eat. Enjoy your meal!!!\n"
     ]
    }
   ],
   "source": [
    "\n",
    "#toppings = ['cheese','paneer','corn']\n",
    "\n",
    "try :\n",
    "    \n",
    "    toppings = []\n",
    "    n = int(input(\"Number of different toppings required :\"))\n",
    "    print(\"Kindly enter your fav sandwich toppings: \")\n",
    "\n",
    "    for i in range(0,n):\n",
    "        item = input()\n",
    "        if item == \"\":\n",
    "            continue\n",
    "        else:\n",
    "            toppings.append(item)\n",
    "\n",
    "    mysandwich = sandwiches(toppings)\n",
    "\n",
    "except ValueError:\n",
    "    print(\"Kindly enter the Valid number of toppings\")\n",
    "\n",
    "finally:\n",
    "    print(\"\\nYummy and Delicious Sandwich is ready to eat. Enjoy your meal!!!\")"
   ]
  },
  {
   "cell_type": "code",
   "execution_count": 59,
   "metadata": {},
   "outputs": [
    {
     "name": "stdout",
     "output_type": "stream",
     "text": [
      "Number of different toppings required :\n",
      "Kindly enter the Valid number of toppings\n",
      "\n",
      "Yummy and Delicious Sandwich is ready to eat. Enjoy your meal!!!\n"
     ]
    }
   ],
   "source": [
    "\n",
    "#toppings = ['cheese','paneer','corn']\n",
    "\n",
    "try :\n",
    "    \n",
    "    toppings = []\n",
    "    n = int(input(\"Number of different toppings required :\"))\n",
    "    print(\"Kindly enter your fav sandwich toppings: \")\n",
    "\n",
    "    for i in range(0,n):\n",
    "        item = input()\n",
    "        if item == \"\":\n",
    "            continue\n",
    "        else:\n",
    "            toppings.append(item)\n",
    "\n",
    "    mysandwich = sandwiches(toppings)\n",
    "\n",
    "except ValueError:\n",
    "    print(\"Kindly enter the Valid number of toppings\")\n",
    "\n",
    "finally:\n",
    "    print(\"\\nYummy and Delicious Sandwich is ready to eat. Enjoy your meal!!!\")"
   ]
  },
  {
   "cell_type": "code",
   "execution_count": null,
   "metadata": {},
   "outputs": [],
   "source": []
  }
 ],
 "metadata": {
  "kernelspec": {
   "display_name": "Python 3",
   "language": "python",
   "name": "python3"
  },
  "language_info": {
   "codemirror_mode": {
    "name": "ipython",
    "version": 3
   },
   "file_extension": ".py",
   "mimetype": "text/x-python",
   "name": "python",
   "nbconvert_exporter": "python",
   "pygments_lexer": "ipython3",
   "version": "3.7.6"
  }
 },
 "nbformat": 4,
 "nbformat_minor": 4
}
