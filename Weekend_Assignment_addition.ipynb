{
 "cells": [
  {
   "cell_type": "code",
   "execution_count": 1,
   "metadata": {},
   "outputs": [
    {
     "name": "stdout",
     "output_type": "stream",
     "text": [
      "Weekend Assignment Addition\n"
     ]
    }
   ],
   "source": [
    "print(\"Weekend Assignment Addition\")"
   ]
  },
  {
   "cell_type": "code",
   "execution_count": null,
   "metadata": {},
   "outputs": [],
   "source": [
    "Scenario 3 :\n",
    "    Addition: \n",
    "        1.One common problem when prompting for numerical input occurs when people provide text instead of numbers. \n",
    "        2.When you try to convert the input to an int, you’ll get a ValueError. \n",
    "        3.Write a program that prompts for two numbers. \n",
    "        4.Add them together and print the result. \n",
    "        5.Catch the ValueError if either input value is not a number, and print a friendly error message. \n",
    "        6.Test your program by entering two numbers and then by entering some text instead of a number"
   ]
  },
  {
   "cell_type": "code",
   "execution_count": 8,
   "metadata": {},
   "outputs": [
    {
     "name": "stdout",
     "output_type": "stream",
     "text": [
      "Enter 1st number :3\n",
      "Enter 2nd number :5\n",
      "\n",
      "Addition of 3 and 5 is 8\n"
     ]
    }
   ],
   "source": [
    "try :\n",
    "    a = int(input(\"Enter 1st number :\"))\n",
    "    b = int(input(\"Enter 2nd number :\"))\n",
    "\n",
    "    c= a+b\n",
    "\n",
    "    print(f\"\\nAddition of {a} and {b} is {c}\")\n",
    "\n",
    "except ValueError:\n",
    "    print(\"\\nKindly enter only digits\")\n",
    "\n",
    "    "
   ]
  },
  {
   "cell_type": "markdown",
   "metadata": {},
   "source": [
    " "
   ]
  },
  {
   "cell_type": "code",
   "execution_count": null,
   "metadata": {},
   "outputs": [],
   "source": []
  }
 ],
 "metadata": {
  "kernelspec": {
   "display_name": "Python 3",
   "language": "python",
   "name": "python3"
  },
  "language_info": {
   "codemirror_mode": {
    "name": "ipython",
    "version": 3
   },
   "file_extension": ".py",
   "mimetype": "text/x-python",
   "name": "python",
   "nbconvert_exporter": "python",
   "pygments_lexer": "ipython3",
   "version": "3.7.6"
  }
 },
 "nbformat": 4,
 "nbformat_minor": 4
}
