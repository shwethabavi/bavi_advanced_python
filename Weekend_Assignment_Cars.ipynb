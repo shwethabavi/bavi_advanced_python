{
 "cells": [
  {
   "cell_type": "code",
   "execution_count": 1,
   "metadata": {},
   "outputs": [
    {
     "name": "stdout",
     "output_type": "stream",
     "text": [
      "Weekend Assignment Cars\n"
     ]
    }
   ],
   "source": [
    "print(\"Weekend Assignment Cars\")"
   ]
  },
  {
   "cell_type": "code",
   "execution_count": null,
   "metadata": {},
   "outputs": [],
   "source": [
    "Scenario 2 :\n",
    "    Cars: \n",
    "        1. Write a function that stores information about a car in a dictionary. \n",
    "        2. The function should always receive a manufacturer and a model name. \n",
    "        3. It should then accept an arbitrary number of keyword arguments. \n",
    "        4. Call the function with the required information and two other namevalue pairs, such as a color or an optional feature. \n",
    "        5. Your function should work for a call like this one:\n",
    "\n",
    "car = make_car('subaru', 'outback', color='blue', tow_package=True)\n",
    "\n",
    "Print the dictionary that’s returned to make sure all the information was stored correctly."
   ]
  },
  {
   "cell_type": "code",
   "execution_count": 24,
   "metadata": {},
   "outputs": [
    {
     "ename": "NameError",
     "evalue": "name 'other_info' is not defined",
     "output_type": "error",
     "traceback": [
      "\u001b[1;31m---------------------------------------------------------------------------\u001b[0m",
      "\u001b[1;31mNameError\u001b[0m                                 Traceback (most recent call last)",
      "\u001b[1;32m<ipython-input-24-c342face1bda>\u001b[0m in \u001b[0;36m<module>\u001b[1;34m\u001b[0m\n\u001b[1;32m----> 1\u001b[1;33m \u001b[0mother_info\u001b[0m\u001b[1;33m.\u001b[0m\u001b[0mclear\u001b[0m\u001b[1;33m(\u001b[0m\u001b[1;33m)\u001b[0m\u001b[1;33m\u001b[0m\u001b[1;33m\u001b[0m\u001b[0m\n\u001b[0m",
      "\u001b[1;31mNameError\u001b[0m: name 'other_info' is not defined"
     ]
    }
   ],
   "source": []
  },
  {
   "cell_type": "code",
   "execution_count": 45,
   "metadata": {},
   "outputs": [],
   "source": [
    "def make_car(manufacturer,model_name,**other_info):\n",
    "    car = {}\n",
    "    car['manufacturer'] = manufacturer\n",
    "    car['model_name'] = model_name\n",
    "    for key in other_info:\n",
    "        car[key] = other_info[key]\n",
    "    return car\n"
   ]
  },
  {
   "cell_type": "code",
   "execution_count": 48,
   "metadata": {},
   "outputs": [
    {
     "name": "stdout",
     "output_type": "stream",
     "text": [
      "{'manufacturer': 'Audi', 'model_name': 'Q7', 'color': 'black', 'handbreak': 'True'}\n"
     ]
    }
   ],
   "source": [
    "car = make_car('Audi','Q7',color = 'black', handbreak = 'True')\n",
    "\n",
    "print(car)"
   ]
  },
  {
   "cell_type": "code",
   "execution_count": 49,
   "metadata": {},
   "outputs": [
    {
     "name": "stdout",
     "output_type": "stream",
     "text": [
      "{'manufacturer': 'BMW', 'model_name': 'X7', 'engine': 'hybird with 4 and 6 cylinder petrol', 'ABS': 'True'}\n"
     ]
    }
   ],
   "source": [
    "car2 = make_car(\"BMW\",'X7',engine= 'hybird with 4 and 6 cylinder petrol',ABS= 'True')\n",
    "\n",
    "print(car2)"
   ]
  },
  {
   "cell_type": "code",
   "execution_count": 50,
   "metadata": {},
   "outputs": [
    {
     "name": "stdout",
     "output_type": "stream",
     "text": [
      "{'manufacturer': 'subaru', 'model_name': 'outback', 'color': 'blue', 'tow_package': True}\n"
     ]
    }
   ],
   "source": [
    "car5 = make_car('subaru', 'outback', color='blue', tow_package=True)\n",
    "\n",
    "print(car5)"
   ]
  },
  {
   "cell_type": "code",
   "execution_count": null,
   "metadata": {},
   "outputs": [],
   "source": []
  }
 ],
 "metadata": {
  "kernelspec": {
   "display_name": "Python 3",
   "language": "python",
   "name": "python3"
  },
  "language_info": {
   "codemirror_mode": {
    "name": "ipython",
    "version": 3
   },
   "file_extension": ".py",
   "mimetype": "text/x-python",
   "name": "python",
   "nbconvert_exporter": "python",
   "pygments_lexer": "ipython3",
   "version": "3.7.6"
  }
 },
 "nbformat": 4,
 "nbformat_minor": 4
}
